{
 "cells": [
  {
   "cell_type": "code",
   "execution_count": 1,
   "id": "c3cddfa1",
   "metadata": {},
   "outputs": [],
   "source": [
    "# !pip3 install scikit-learn\n",
    "# !pip3 install torch torchvision torchaudio\n",
    "# !pip3 install simpletransformers"
   ]
  },
  {
   "cell_type": "code",
   "execution_count": 2,
   "id": "05ed7a94",
   "metadata": {},
   "outputs": [
    {
     "name": "stdout",
     "output_type": "stream",
     "text": [
      "Is cuda available? True\n"
     ]
    }
   ],
   "source": [
    "import pandas as pd\n",
    "import sklearn \n",
    "import torch\n",
    "from simpletransformers.classification import ClassificationModel, ClassificationArgs\n",
    "from functools import partial\n",
    "import unicodedata as ud\n",
    "import re\n",
    "import os\n",
    "import logging\n",
    "pd.set_option('display.max_colwidth', None)\n",
    "logging.basicConfig(level=logging.INFO)\n",
    "transformers_logger = logging.getLogger(\"transformers\")\n",
    "transformers_logger.setLevel(logging.WARNING)\n",
    "torch.multiprocessing.set_sharing_strategy('file_system')\n",
    "cuda_available = torch.cuda.is_available()\n",
    "print(\"Is cuda available?\", cuda_available)"
   ]
  },
  {
   "cell_type": "markdown",
   "id": "05af6900",
   "metadata": {},
   "source": [
    "# download data [optional]"
   ]
  },
  {
   "cell_type": "code",
   "execution_count": 3,
   "id": "edb1a24f",
   "metadata": {},
   "outputs": [],
   "source": [
    "# if not os.path.isfile(\"github-labels-top3-803k-train.csv\"):\n",
    "#     print('downloading data...')\n",
    "#     !curl \"https://tickettagger.blob.core.windows.net/datasets/github-labels-top3-803k-train.tar.gz\" | tar -xz\n",
    "\n",
    "# if not os.path.isfile(\"github-labels-top3-803k-test.csv\"):\n",
    "#     print('downloading data...')\n",
    "#     !curl \"https://tickettagger.blob.core.windows.net/datasets/github-labels-top3-803k-test.tar.gz\" | tar -xz\n",
    "\n",
    "# print('loading data...')\n",
    "# train = pd.read_csv('github-labels-top3-803k-train.csv')\n",
    "# test = pd.read_csv('github-labels-top3-803k-test.csv')\n",
    "# print(train.shape, test.shape)"
   ]
  },
  {
   "cell_type": "markdown",
   "id": "84fe7a60",
   "metadata": {},
   "source": [
    "# load data"
   ]
  },
  {
   "cell_type": "code",
   "execution_count": 4,
   "id": "07427a18",
   "metadata": {},
   "outputs": [
    {
     "name": "stdout",
     "output_type": "stream",
     "text": [
      "(722899, 8) (80518, 8)\n"
     ]
    }
   ],
   "source": [
    "train = pd.read_csv('data/github-labels-top3-803k-train.csv')\n",
    "test = pd.read_csv('data/github-labels-top3-803k-test.csv')\n",
    "print(train.shape, test.shape)"
   ]
  },
  {
   "cell_type": "code",
   "execution_count": 5,
   "id": "c5cdbc68",
   "metadata": {},
   "outputs": [],
   "source": [
    "label= 'issue_label'\n",
    "time = 'issue_created_at'\n",
    "repo = 'repository_url'\n",
    "title  = 'issue_title'\n",
    "body = 'issue_body'\n",
    "author = 'issue_author_association'\n",
    "url = 'issue_url'\n",
    "label_col = 'labels'\n",
    "text_col = 'text'\n",
    "max_title = 30\n",
    "max_body = 170\n",
    "punctuations = '!\"$%&\\()*,/:;<=>[\\\\]^`{|}~+#@-`'\n",
    "issue_regex = re.compile(r'#[0-9]+')\n",
    "function_regex = re.compile(r'[a-zA-Z][a-zA-Z0-9_.]*\\([a-zA-Z0-9_, ]*\\)')\n",
    "ascii_regex = re.compile(r'[^\\x00-\\x7f]')"
   ]
  },
  {
   "cell_type": "markdown",
   "id": "678d2149",
   "metadata": {},
   "source": [
    "# first deduplicate the TRAINING dataset based on issue URls¶"
   ]
  },
  {
   "cell_type": "code",
   "execution_count": 6,
   "id": "1f78c6cc",
   "metadata": {},
   "outputs": [
    {
     "name": "stdout",
     "output_type": "stream",
     "text": [
      "Number of dropped issue duplications:  26220\n"
     ]
    }
   ],
   "source": [
    "dedup_train = train.sort_values(url).drop_duplicates(subset=[url]).copy()\n",
    "print('Number of dropped issue duplications: ' , train.shape[0] - dedup_train.shape[0])\n",
    "\n",
    "dedup_train[title] = dedup_train[title].astype(str)\n",
    "dedup_train[body] = dedup_train[body].astype(str)\n",
    "dedup_train[author] = dedup_train[author].astype(str)\n",
    "dedup_train[time] = dedup_train[time].astype(str)\n",
    "dedup_train[repo] = dedup_train[repo].astype(str)\n",
    "\n",
    "test[title] = test[title].astype(str)\n",
    "test[body] = test[body].astype(str)\n",
    "test[author] = test[author].astype(str)\n",
    "test[time] = test[time].astype(str)\n",
    "test[repo] = test[repo].astype(str)"
   ]
  },
  {
   "cell_type": "markdown",
   "id": "f25fe61e",
   "metadata": {},
   "source": [
    "# normalize text"
   ]
  },
  {
   "cell_type": "code",
   "execution_count": 7,
   "id": "bdfc37a2",
   "metadata": {},
   "outputs": [
    {
     "name": "stdout",
     "output_type": "stream",
     "text": [
      "Replacing functions...\n",
      "Replacing issue numbers...\n",
      "Converting to lower case...\n"
     ]
    }
   ],
   "source": [
    "print('Replacing functions...')\n",
    "dedup_train[body] = dedup_train[body].apply(lambda x:function_regex.sub(\" function \",x))\n",
    "test[body] = test[body].apply(lambda x:function_regex.sub(\" function \",x))\n",
    " \n",
    "print('Replacing issue numbers...')\n",
    "dedup_train[title] = dedup_train[title].apply(lambda x:issue_regex.sub(\" issue \",x))\n",
    "dedup_train[body] = dedup_train[body].apply(lambda x:issue_regex.sub(\" issue \",x))\n",
    "test[title] = test[title].apply(lambda x:issue_regex.sub(\" issue \",x))\n",
    "test[body] = test[body].apply(lambda x:issue_regex.sub(\" issue \",x))\n",
    "\n",
    "print('Converting to lower case...')\n",
    "dedup_train[title] = dedup_train[title].str.lower()\n",
    "dedup_train[body] = dedup_train[body].str.lower()\n",
    "test[title] = test[title].str.lower()\n",
    "test[body] = test[body].str.lower()"
   ]
  },
  {
   "cell_type": "markdown",
   "id": "31f247c3",
   "metadata": {},
   "source": [
    "# remove extra information"
   ]
  },
  {
   "cell_type": "code",
   "execution_count": 8,
   "id": "e9fa7855",
   "metadata": {},
   "outputs": [
    {
     "name": "stdout",
     "output_type": "stream",
     "text": [
      "Removing punctuations...\n",
      "Removing non-ascii charachters...\n",
      "Replacing fixed part of repo URl column...\n",
      "Replacing white spaces...\n"
     ]
    }
   ],
   "source": [
    "print('Removing punctuations...')\n",
    "replace_string = ' '*len(punctuations)\n",
    "dedup_train[title] = dedup_train[title].str.translate(str.maketrans(punctuations, replace_string))\n",
    "dedup_train[body] = dedup_train[body].str.translate(str.maketrans(punctuations, replace_string))\n",
    "test[title] = test[title].str.translate(str.maketrans(punctuations, replace_string))\n",
    "test[body] = test[body].str.translate(str.maketrans(punctuations, replace_string))\n",
    "\n",
    "print('Removing non-ascii charachters...')\n",
    "dedup_train[title] = dedup_train[title].apply(lambda x:re.sub(ascii_regex, '', x))\n",
    "dedup_train[title] = dedup_train[title].apply(lambda x:ud.normalize('NFD', x))\n",
    "dedup_train[body] = dedup_train[body].apply(lambda x:re.sub(ascii_regex, '', x))\n",
    "dedup_train[body] = dedup_train[body].apply(lambda x:ud.normalize('NFD', x))\n",
    "\n",
    "test[title] = test[title].apply(lambda x:re.sub(ascii_regex, '', x))\n",
    "test[title] = test[title].apply(lambda x:ud.normalize('NFD', x))\n",
    "test[body] = test[body].apply(lambda x:re.sub(ascii_regex, '', x))\n",
    "test[body] = test[body].apply(lambda x:ud.normalize('NFD', x))\n",
    "\n",
    "print('Replacing fixed part of repo URl column...')\n",
    "dedup_train[repo] = dedup_train[repo].apply(lambda x: x.replace('https://api.github.com/repos/', ''))\n",
    "test[repo] = test[repo].apply(lambda x: x.replace('https://api.github.com/repos/', ''))\n",
    "\n",
    "print('Replacing white spaces...')\n",
    "dedup_train[title] = dedup_train[title].apply(lambda x:\" \".join(x.split()))\n",
    "dedup_train[body] = dedup_train[body].apply(lambda x:\" \".join(x.split()))\n",
    "test[title] = test[title].apply(lambda x:\" \".join(x.split()))\n",
    "test[body] = test[body].apply(lambda x:\" \".join(x.split()))"
   ]
  },
  {
   "cell_type": "markdown",
   "id": "5b43faba",
   "metadata": {},
   "source": [
    "# truncate columns"
   ]
  },
  {
   "cell_type": "code",
   "execution_count": 9,
   "id": "c39feacf",
   "metadata": {},
   "outputs": [],
   "source": [
    "dedup_train[title] = dedup_train[title].apply(lambda x: ' '.join(x.split(maxsplit=max_title)[:max_title]))\n",
    "dedup_train[body] = dedup_train[body].apply(lambda x: ' '.join(x.split(maxsplit=max_body)[:max_body]))\n",
    "test[title] = test[title].apply(lambda x: ' '.join(x.split(maxsplit=max_title)[:max_title]))\n",
    "test[body] = test[body].apply(lambda x: ' '.join(x.split(maxsplit=max_body)[:max_body]))"
   ]
  },
  {
   "cell_type": "markdown",
   "id": "db0514a3",
   "metadata": {},
   "source": [
    "# prepare label column for the model"
   ]
  },
  {
   "cell_type": "code",
   "execution_count": 10,
   "id": "993ff44c",
   "metadata": {},
   "outputs": [],
   "source": [
    "dedup_train[label] = pd.Categorical(dedup_train[label])\n",
    "test[label] = pd.Categorical(test[label])\n",
    "dedup_train[label_col] = dedup_train[label].cat.codes\n",
    "test[label_col] = test[label].cat.codes"
   ]
  },
  {
   "cell_type": "markdown",
   "id": "42c10102",
   "metadata": {},
   "source": [
    "# concat issue columns in one \"text\" column to feed the model"
   ]
  },
  {
   "cell_type": "code",
   "execution_count": 11,
   "id": "e88f52c3",
   "metadata": {},
   "outputs": [],
   "source": [
    "dedup_train[text_col] = 'time ' + dedup_train[time] + ' author ' + dedup_train[author] +' repo ' + dedup_train[repo] + ' title ' + dedup_train[title] + ' body ' + dedup_train[body]\n",
    "test[text_col] = 'time ' + test[time] + ' author ' + test[author] +' repo ' + test[repo] + ' title ' + test[title] + ' body ' + test[body]"
   ]
  },
  {
   "cell_type": "markdown",
   "id": "ad5e04bc",
   "metadata": {},
   "source": [
    "# save the data [optional]"
   ]
  },
  {
   "cell_type": "code",
   "execution_count": 12,
   "id": "3f75bc71",
   "metadata": {},
   "outputs": [],
   "source": [
    "dedup_train.reset_index(drop=True, inplace=True)\n",
    "test.reset_index(drop=True, inplace=True)\n",
    "\n",
    "dedup_train[[text_col, label_col]].to_csv(f'train_clean_concat_{max_title + max_body}.csv', index = False)\n",
    "test[[text_col, label_col]].to_csv(f'test_clean_concat_{max_title + max_body}.csv', index = False)\n",
    "del train, dedup_train, test"
   ]
  },
  {
   "cell_type": "markdown",
   "id": "54e4d3a2",
   "metadata": {},
   "source": [
    "# load data [optional]"
   ]
  },
  {
   "cell_type": "code",
   "execution_count": 13,
   "id": "356d5156",
   "metadata": {},
   "outputs": [
    {
     "name": "stdout",
     "output_type": "stream",
     "text": [
      "number of issues:  (696679, 2) (80518, 2)\n"
     ]
    }
   ],
   "source": [
    "train = pd.read_csv(f'train_clean_concat_{max_title + max_body}.csv')\n",
    "test = pd.read_csv(f'test_clean_concat_{max_title + max_body}.csv')\n",
    "print('number of issues: ', train.shape,  test.shape)"
   ]
  },
  {
   "cell_type": "markdown",
   "id": "bb50eb0a",
   "metadata": {},
   "source": [
    "# define model parameters and function"
   ]
  },
  {
   "cell_type": "code",
   "execution_count": 14,
   "id": "1bc846f7",
   "metadata": {},
   "outputs": [],
   "source": [
    "lr = 3e-5\n",
    "epochs = 4\n",
    "batch = 100\n",
    "max_seq = 200\n",
    "name = 'roberta'\n",
    "ver = 'roberta-base'\n",
    "output_name = 'output/' + name\n",
    "\n",
    "def create_model(name, ver, lr, epochs, batch, max_seq):\n",
    "    \n",
    "    model_args = ClassificationArgs()\n",
    "    model_name = name\n",
    "    model_version = ver\n",
    "    model_args.learning_rate = lr\n",
    "    model_args.num_train_epochs = epochs\n",
    "    model_args.eval_batch_size = batch\n",
    "    model_args.train_batch_size = batch\n",
    "    model_args.max_seq_length = max_seq\n",
    "    model_args.n_gpu = 2\n",
    "    model_args.no_cache = True\n",
    "    model_args.output_dir = output_name +'/'\n",
    "    model_args.overwrite_output_dir = True\n",
    "    model_args.reprocess_input_data = True\n",
    "    model_args.preprocess_inputs = True\n",
    "    model_args.save_steps = -1\n",
    "    model_args.save_model_every_epoch = False\n",
    "    \n",
    "    model = ClassificationModel(model_name, \n",
    "                                model_version, \n",
    "                                args = model_args, \n",
    "                                num_labels = 3, \n",
    "                                use_cuda=cuda_available)\n",
    " \n",
    "    return model"
   ]
  },
  {
   "cell_type": "markdown",
   "id": "268d2ee2",
   "metadata": {},
   "source": [
    "# define evaluation setup"
   ]
  },
  {
   "cell_type": "code",
   "execution_count": 15,
   "id": "cf2f0c44",
   "metadata": {},
   "outputs": [],
   "source": [
    "def calc(p1, p2, func, **kwargs):\n",
    "    return func(p1, p2, **kwargs)\n",
    "\n",
    "metrics_recom = {\n",
    "    \"accuracy\": partial(calc,func=sklearn.metrics.accuracy_score) ,\n",
    "    \"p_micro\": partial(calc,func=sklearn.metrics.precision_score,average='micro'),\n",
    "    \"r_micro\": partial(calc,func=sklearn.metrics.recall_score,average='micro'),\n",
    "    \"f_micro\": partial(calc,func=sklearn.metrics.f1_score,average='micro'),\n",
    "    \"classificationReport\": partial(calc,func=sklearn.metrics.classification_report, output_dict=True)}"
   ]
  },
  {
   "cell_type": "markdown",
   "id": "5de52b80",
   "metadata": {},
   "source": [
    "# train the model"
   ]
  },
  {
   "cell_type": "code",
   "execution_count": 17,
   "id": "3a99ff02",
   "metadata": {
    "scrolled": true
   },
   "outputs": [
    {
     "name": "stderr",
     "output_type": "stream",
     "text": [
      "Some weights of the model checkpoint at roberta-base were not used when initializing RobertaForSequenceClassification: ['roberta.pooler.dense.bias', 'lm_head.decoder.weight', 'lm_head.dense.bias', 'lm_head.layer_norm.bias', 'lm_head.bias', 'roberta.pooler.dense.weight', 'lm_head.dense.weight', 'lm_head.layer_norm.weight']\n",
      "- This IS expected if you are initializing RobertaForSequenceClassification from the checkpoint of a model trained on another task or with another architecture (e.g. initializing a BertForSequenceClassification model from a BertForPreTraining model).\n",
      "- This IS NOT expected if you are initializing RobertaForSequenceClassification from the checkpoint of a model that you expect to be exactly identical (initializing a BertForSequenceClassification model from a BertForSequenceClassification model).\n",
      "Some weights of RobertaForSequenceClassification were not initialized from the model checkpoint at roberta-base and are newly initialized: ['classifier.out_proj.bias', 'classifier.out_proj.weight', 'classifier.dense.bias', 'classifier.dense.weight']\n",
      "You should probably TRAIN this model on a down-stream task to be able to use it for predictions and inference.\n",
      "INFO:simpletransformers.classification.classification_utils: Converting to features started. Cache is not used.\n"
     ]
    },
    {
     "data": {
      "application/vnd.jupyter.widget-view+json": {
       "model_id": "0e7c9f75306b4dd1b3379d064c7c18d9",
       "version_major": 2,
       "version_minor": 0
      },
      "text/plain": [
       "  0%|          | 0/696679 [00:00<?, ?it/s]"
      ]
     },
     "metadata": {},
     "output_type": "display_data"
    },
    {
     "name": "stderr",
     "output_type": "stream",
     "text": [
      "/mnt/maliheh/envissue/lib/python3.6/site-packages/transformers/optimization.py:309: FutureWarning: This implementation of AdamW is deprecated and will be removed in a future version. Use the PyTorch implementation torch.optim.AdamW instead, or set `no_deprecation_warning=True` to disable this warning\n",
      "  FutureWarning,\n"
     ]
    },
    {
     "data": {
      "application/vnd.jupyter.widget-view+json": {
       "model_id": "46f90d30790c4d33981f35d19b0d17f6",
       "version_major": 2,
       "version_minor": 0
      },
      "text/plain": [
       "Epoch:   0%|          | 0/4 [00:00<?, ?it/s]"
      ]
     },
     "metadata": {},
     "output_type": "display_data"
    },
    {
     "data": {
      "application/vnd.jupyter.widget-view+json": {
       "model_id": "63ce63551d8344398f7e80120b308230",
       "version_major": 2,
       "version_minor": 0
      },
      "text/plain": [
       "Running Epoch 0 of 4:   0%|          | 0/6967 [00:00<?, ?it/s]"
      ]
     },
     "metadata": {},
     "output_type": "display_data"
    },
    {
     "name": "stderr",
     "output_type": "stream",
     "text": [
      "/mnt/maliheh/envissue/lib/python3.6/site-packages/torch/nn/parallel/_functions.py:68: UserWarning: Was asked to gather along dimension 0, but all input tensors were scalars; will instead unsqueeze and return a vector.\n",
      "  warnings.warn('Was asked to gather along dimension 0, but all '\n"
     ]
    },
    {
     "data": {
      "application/vnd.jupyter.widget-view+json": {
       "model_id": "705171d4e4544e0fbfc27006760f7dac",
       "version_major": 2,
       "version_minor": 0
      },
      "text/plain": [
       "Running Epoch 1 of 4:   0%|          | 0/6967 [00:00<?, ?it/s]"
      ]
     },
     "metadata": {},
     "output_type": "display_data"
    },
    {
     "data": {
      "application/vnd.jupyter.widget-view+json": {
       "model_id": "9e6ef4de8faf43999faefcc18074b314",
       "version_major": 2,
       "version_minor": 0
      },
      "text/plain": [
       "Running Epoch 2 of 4:   0%|          | 0/6967 [00:00<?, ?it/s]"
      ]
     },
     "metadata": {},
     "output_type": "display_data"
    },
    {
     "data": {
      "application/vnd.jupyter.widget-view+json": {
       "model_id": "5e1f0168d4e64ed299ca9fb641c1bd80",
       "version_major": 2,
       "version_minor": 0
      },
      "text/plain": [
       "Running Epoch 3 of 4:   0%|          | 0/6967 [00:00<?, ?it/s]"
      ]
     },
     "metadata": {},
     "output_type": "display_data"
    },
    {
     "name": "stderr",
     "output_type": "stream",
     "text": [
      "INFO:simpletransformers.classification.classification_model: Training of roberta model complete. Saved to output/roberta/.\n"
     ]
    },
    {
     "data": {
      "text/plain": [
       "(27868, 0.32264242434850915)"
      ]
     },
     "execution_count": 17,
     "metadata": {},
     "output_type": "execute_result"
    }
   ],
   "source": [
    "model = create_model(name, ver, lr, epochs, batch, max_seq)\n",
    "model.train_model(train_df = train, **metrics_recom)"
   ]
  },
  {
   "cell_type": "markdown",
   "id": "24f2e3e4",
   "metadata": {},
   "source": [
    "# evaluate the model"
   ]
  },
  {
   "cell_type": "code",
   "execution_count": 18,
   "id": "e2a0a8cd",
   "metadata": {
    "scrolled": true
   },
   "outputs": [
    {
     "name": "stderr",
     "output_type": "stream",
     "text": [
      "INFO:simpletransformers.classification.classification_utils: Converting to features started. Cache is not used.\n"
     ]
    },
    {
     "data": {
      "application/vnd.jupyter.widget-view+json": {
       "model_id": "0885f62ea9e94e66b366836ad333a0db",
       "version_major": 2,
       "version_minor": 0
      },
      "text/plain": [
       "  0%|          | 0/80518 [00:00<?, ?it/s]"
      ]
     },
     "metadata": {},
     "output_type": "display_data"
    },
    {
     "data": {
      "application/vnd.jupyter.widget-view+json": {
       "model_id": "e1caed426cfa4b6794e03faf3393880b",
       "version_major": 2,
       "version_minor": 0
      },
      "text/plain": [
       "Running Evaluation:   0%|          | 0/806 [00:00<?, ?it/s]"
      ]
     },
     "metadata": {},
     "output_type": "display_data"
    },
    {
     "name": "stderr",
     "output_type": "stream",
     "text": [
      "INFO:simpletransformers.classification.classification_model:{'mcc': 0.77534492998308, 'accuracy': 0.8719292580540997, 'p_micro': 0.8719292580540997, 'r_micro': 0.8719292580540997, 'f_micro': 0.8719292580540997, 'classificationReport': {'0.0': {'precision': 0.8925303938250598, 'recall': 0.8983568308181096, 'f1-score': 0.8954341345142814, 'support': 40288}, '1.0': {'precision': 0.877667865707434, 'recall': 0.8818179080203596, 'f1-score': 0.8797379925784595, 'support': 33203}, '2.0': {'precision': 0.7165127894657182, 'recall': 0.6736872064892557, 'f1-score': 0.6944403696640751, 'support': 7027}, 'accuracy': 0.8719292580540997, 'macro avg': {'precision': 0.8289036829994041, 'recall': 0.8179539817759083, 'f1-score': 0.8232041655856053, 'support': 80518}, 'weighted avg': {'precision': 0.8710400907012537, 'recall': 0.8719292580540997, 'f1-score': 0.8714203464631934, 'support': 80518}}, 'eval_loss': 0.3615677583565191}\n"
     ]
    },
    {
     "data": {
      "text/plain": [
       "{'mcc': 0.77534492998308,\n",
       " 'accuracy': 0.8719292580540997,\n",
       " 'p_micro': 0.8719292580540997,\n",
       " 'r_micro': 0.8719292580540997,\n",
       " 'f_micro': 0.8719292580540997,\n",
       " 'classificationReport': {'0.0': {'precision': 0.8925303938250598,\n",
       "   'recall': 0.8983568308181096,\n",
       "   'f1-score': 0.8954341345142814,\n",
       "   'support': 40288},\n",
       "  '1.0': {'precision': 0.877667865707434,\n",
       "   'recall': 0.8818179080203596,\n",
       "   'f1-score': 0.8797379925784595,\n",
       "   'support': 33203},\n",
       "  '2.0': {'precision': 0.7165127894657182,\n",
       "   'recall': 0.6736872064892557,\n",
       "   'f1-score': 0.6944403696640751,\n",
       "   'support': 7027},\n",
       "  'accuracy': 0.8719292580540997,\n",
       "  'macro avg': {'precision': 0.8289036829994041,\n",
       "   'recall': 0.8179539817759083,\n",
       "   'f1-score': 0.8232041655856053,\n",
       "   'support': 80518},\n",
       "  'weighted avg': {'precision': 0.8710400907012537,\n",
       "   'recall': 0.8719292580540997,\n",
       "   'f1-score': 0.8714203464631934,\n",
       "   'support': 80518}},\n",
       " 'eval_loss': 0.3615677583565191}"
      ]
     },
     "execution_count": 18,
     "metadata": {},
     "output_type": "execute_result"
    }
   ],
   "source": [
    "results, model_outputs, wrong_pred = model.eval_model(test, verbose=True, **metrics_recom)\n",
    "results"
   ]
  },
  {
   "cell_type": "markdown",
   "id": "b910d01a",
   "metadata": {},
   "source": [
    "# save the results"
   ]
  },
  {
   "cell_type": "code",
   "execution_count": 20,
   "id": "e560dfe9",
   "metadata": {},
   "outputs": [],
   "source": [
    "with open(output_name + '/fullreport.txt','w') as f:\n",
    "        f.write(str(results))"
   ]
  }
 ],
 "metadata": {
  "kernelspec": {
   "display_name": "Python 3",
   "language": "python",
   "name": "python3"
  },
  "language_info": {
   "codemirror_mode": {
    "name": "ipython",
    "version": 3
   },
   "file_extension": ".py",
   "mimetype": "text/x-python",
   "name": "python",
   "nbconvert_exporter": "python",
   "pygments_lexer": "ipython3",
   "version": "3.6.9"
  }
 },
 "nbformat": 4,
 "nbformat_minor": 5
}
