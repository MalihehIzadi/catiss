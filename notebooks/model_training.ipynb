{
 "cells": [
  {
   "cell_type": "code",
   "execution_count": 1,
   "id": "c3cddfa1",
   "metadata": {},
   "outputs": [],
   "source": [
    "# !pip3 install scikit-learn\n",
    "# !pip3 install torch torchvision torchaudio\n",
    "# !pip3 install simpletransformers"
   ]
  },
  {
   "cell_type": "code",
   "execution_count": 2,
   "id": "36ddacce",
   "metadata": {},
   "outputs": [
    {
     "name": "stdout",
     "output_type": "stream",
     "text": [
      "Is cuda available? True\n"
     ]
    }
   ],
   "source": [
    "import pandas as pd\n",
    "from functools import partial\n",
    "import sklearn \n",
    "import torch\n",
    "from simpletransformers.classification import ClassificationModel, ClassificationArgs\n",
    "import logging\n",
    "import datetime\n",
    "pd.set_option('display.max_colwidth', None)\n",
    "logging.basicConfig(level=logging.INFO)\n",
    "transformers_logger = logging.getLogger(\"transformers\")\n",
    "transformers_logger.setLevel(logging.WARNING)\n",
    "torch.multiprocessing.set_sharing_strategy('file_system')\n",
    "cuda_available = torch.cuda.is_available()\n",
    "print(\"Is cuda available?\", cuda_available)"
   ]
  },
  {
   "cell_type": "markdown",
   "id": "54e4d3a2",
   "metadata": {},
   "source": [
    "# load and prepare data"
   ]
  },
  {
   "cell_type": "code",
   "execution_count": 3,
   "id": "356d5156",
   "metadata": {},
   "outputs": [
    {
     "name": "stdout",
     "output_type": "stream",
     "text": [
      "Number of issues:  (696679, 2) (80518, 2)\n"
     ]
    }
   ],
   "source": [
    "train = pd.read_csv('data/train_clean_concat_200.csv')\n",
    "test = pd.read_csv('data/test_clean_concat_200.csv')\n",
    "print('Number of issues: ', train.shape, test.shape)"
   ]
  },
  {
   "cell_type": "markdown",
   "id": "72878d47",
   "metadata": {},
   "source": [
    "# set the classification layer and training paramteres"
   ]
  },
  {
   "cell_type": "code",
   "execution_count": 4,
   "id": "1bc846f7",
   "metadata": {},
   "outputs": [],
   "source": [
    "lr = 3e-5\n",
    "drp = 0\n",
    "epochs = 4\n",
    "batch_t = 100\n",
    "batch_e = 100\n",
    "max_seq = 200\n",
    "name = 'roberta'\n",
    "ver = 'roberta-base'\n",
    "output_name = 'outputs/' + name\n",
    "\n",
    "def create_model(name, ver, lr, drp, epochs, batch_t, batch_e, max_seq):\n",
    "    model_args = ClassificationArgs()\n",
    "    model_name = name\n",
    "    model_version = ver\n",
    "    model_args.learning_rate = lr\n",
    "    model_args.num_train_epochs = epochs\n",
    "    model_args.eval_batch_size = batch_t\n",
    "    model_args.train_batch_size = batch_e\n",
    "    model_args.max_seq_length = max_seq\n",
    "    model_args.n_gpu = 2\n",
    "    model_args.output_dir = output_name +'/'\n",
    "    model_args.overwrite_output_dir = True\n",
    "    model_args.reprocess_input_data = True\n",
    "    model_args.preprocess_inputs = True\n",
    "    model_args.save_steps = -1\n",
    "    model_args.save_model_every_epoch = False\n",
    "    \n",
    "    model = ClassificationModel(model_name, model_version, args = model_args, \n",
    "                                num_labels = 3, \n",
    "                                use_cuda=cuda_available)\n",
    " \n",
    "    return model"
   ]
  },
  {
   "cell_type": "markdown",
   "id": "268d2ee2",
   "metadata": {},
   "source": [
    "# define evaluation metrics"
   ]
  },
  {
   "cell_type": "code",
   "execution_count": 5,
   "id": "cf2f0c44",
   "metadata": {},
   "outputs": [],
   "source": [
    "def calc(p1, p2, func, **kwargs):\n",
    "    return func(p1, p2, **kwargs)\n",
    "\n",
    "metrics_recom = {\n",
    "    \"accuracy\": partial(calc,func=sklearn.metrics.accuracy_score) ,\n",
    "    \"p_micro\": partial(calc,func=sklearn.metrics.precision_score,average='micro'),\n",
    "    \"p_macro\": partial(calc,func=sklearn.metrics.precision_score,average='macro'),\n",
    "    \"p_w\": partial(calc,func=sklearn.metrics.precision_score,average='weighted'),\n",
    "    \"r_micro\": partial(calc,func=sklearn.metrics.recall_score,average='micro'),\n",
    "    \"r_macro\": partial(calc,func=sklearn.metrics.recall_score,average='macro'),\n",
    "    \"r_w\": partial(calc,func=sklearn.metrics.recall_score,average='weighted'),     \n",
    "    \"f_micro\": partial(calc,func=sklearn.metrics.f1_score,average='micro'),\n",
    "    \"f_macro\": partial(calc,func=sklearn.metrics.f1_score,average='macro'),\n",
    "    \"f_w\": partial(calc,func=sklearn.metrics.f1_score,average='weighted'),\n",
    "    \"classificationReport\": partial(calc,func=sklearn.metrics.classification_report, output_dict=True)\n",
    "}"
   ]
  },
  {
   "cell_type": "markdown",
   "id": "5de52b80",
   "metadata": {},
   "source": [
    "# train the model"
   ]
  },
  {
   "cell_type": "code",
   "execution_count": 6,
   "id": "3a99ff02",
   "metadata": {
    "scrolled": true
   },
   "outputs": [
    {
     "name": "stderr",
     "output_type": "stream",
     "text": [
      "Some weights of the model checkpoint at roberta-base were not used when initializing RobertaForSequenceClassification: ['lm_head.layer_norm.weight', 'lm_head.dense.weight', 'roberta.pooler.dense.weight', 'roberta.pooler.dense.bias', 'lm_head.dense.bias', 'lm_head.layer_norm.bias', 'lm_head.bias', 'lm_head.decoder.weight']\n",
      "- This IS expected if you are initializing RobertaForSequenceClassification from the checkpoint of a model trained on another task or with another architecture (e.g. initializing a BertForSequenceClassification model from a BertForPreTraining model).\n",
      "- This IS NOT expected if you are initializing RobertaForSequenceClassification from the checkpoint of a model that you expect to be exactly identical (initializing a BertForSequenceClassification model from a BertForSequenceClassification model).\n",
      "Some weights of RobertaForSequenceClassification were not initialized from the model checkpoint at roberta-base and are newly initialized: ['classifier.out_proj.weight', 'classifier.dense.bias', 'classifier.dense.weight', 'classifier.out_proj.bias']\n",
      "You should probably TRAIN this model on a down-stream task to be able to use it for predictions and inference.\n"
     ]
    },
    {
     "name": "stdout",
     "output_type": "stream",
     "text": [
      "----- roberta , start time: 21/02/2022-21:36 -----\n"
     ]
    },
    {
     "name": "stderr",
     "output_type": "stream",
     "text": [
      "INFO:simpletransformers.classification.classification_utils: Converting to features started. Cache is not used.\n"
     ]
    },
    {
     "data": {
      "application/vnd.jupyter.widget-view+json": {
       "model_id": "b03721d9bd63437eb6504b6cb6757653",
       "version_major": 2,
       "version_minor": 0
      },
      "text/plain": [
       "  0%|          | 0/696679 [00:00<?, ?it/s]"
      ]
     },
     "metadata": {},
     "output_type": "display_data"
    },
    {
     "name": "stderr",
     "output_type": "stream",
     "text": [
      "INFO:simpletransformers.classification.classification_utils: Saving features into cached file cache_dir/cached_train_roberta_200_3_2\n",
      "/mnt/maliheh/envissue/lib/python3.6/site-packages/transformers/optimization.py:309: FutureWarning: This implementation of AdamW is deprecated and will be removed in a future version. Use the PyTorch implementation torch.optim.AdamW instead, or set `no_deprecation_warning=True` to disable this warning\n",
      "  FutureWarning,\n"
     ]
    },
    {
     "data": {
      "application/vnd.jupyter.widget-view+json": {
       "model_id": "0d813610597c44d9b615772c76d76bb6",
       "version_major": 2,
       "version_minor": 0
      },
      "text/plain": [
       "Epoch:   0%|          | 0/4 [00:00<?, ?it/s]"
      ]
     },
     "metadata": {},
     "output_type": "display_data"
    },
    {
     "data": {
      "application/vnd.jupyter.widget-view+json": {
       "model_id": "26cb1d3677e947ee9146124f6ab82132",
       "version_major": 2,
       "version_minor": 0
      },
      "text/plain": [
       "Running Epoch 0 of 4:   0%|          | 0/6967 [00:00<?, ?it/s]"
      ]
     },
     "metadata": {},
     "output_type": "display_data"
    },
    {
     "name": "stderr",
     "output_type": "stream",
     "text": [
      "/mnt/maliheh/envissue/lib/python3.6/site-packages/torch/nn/parallel/_functions.py:68: UserWarning: Was asked to gather along dimension 0, but all input tensors were scalars; will instead unsqueeze and return a vector.\n",
      "  warnings.warn('Was asked to gather along dimension 0, but all '\n"
     ]
    },
    {
     "data": {
      "application/vnd.jupyter.widget-view+json": {
       "model_id": "afd77c2569ab47309c1931c16460621e",
       "version_major": 2,
       "version_minor": 0
      },
      "text/plain": [
       "Running Epoch 1 of 4:   0%|          | 0/6967 [00:00<?, ?it/s]"
      ]
     },
     "metadata": {},
     "output_type": "display_data"
    },
    {
     "data": {
      "application/vnd.jupyter.widget-view+json": {
       "model_id": "e6681eafbb1d408f8ff7416f554b4d73",
       "version_major": 2,
       "version_minor": 0
      },
      "text/plain": [
       "Running Epoch 2 of 4:   0%|          | 0/6967 [00:00<?, ?it/s]"
      ]
     },
     "metadata": {},
     "output_type": "display_data"
    },
    {
     "data": {
      "application/vnd.jupyter.widget-view+json": {
       "model_id": "8f77b9f8881e41499d2d5c3a8ca93cca",
       "version_major": 2,
       "version_minor": 0
      },
      "text/plain": [
       "Running Epoch 3 of 4:   0%|          | 0/6967 [00:00<?, ?it/s]"
      ]
     },
     "metadata": {},
     "output_type": "display_data"
    },
    {
     "name": "stderr",
     "output_type": "stream",
     "text": [
      "INFO:simpletransformers.classification.classification_model: Training of roberta model complete. Saved to outputs/roberta_ep4_processed_len200/.\n"
     ]
    },
    {
     "data": {
      "text/plain": [
       "(27868, 0.3226250217546024)"
      ]
     },
     "execution_count": 6,
     "metadata": {},
     "output_type": "execute_result"
    }
   ],
   "source": [
    "model = create_model(name, ver, lr, drp, epochs, batch_t, batch_e, max_seq)\n",
    "start = datetime.datetime.now()\n",
    "print('-'*5,  name, ', start time:', \n",
    "datetime.datetime.strftime(datetime.datetime.today(), '%d/%m/%Y-%H:%M'), '-'*5)\n",
    "model.train_model(train_df=train, **metrics_recom)"
   ]
  },
  {
   "cell_type": "markdown",
   "id": "d912849b",
   "metadata": {},
   "source": [
    "# evaluate the model"
   ]
  },
  {
   "cell_type": "code",
   "execution_count": 7,
   "id": "e2a0a8cd",
   "metadata": {
    "scrolled": false
   },
   "outputs": [
    {
     "name": "stderr",
     "output_type": "stream",
     "text": [
      "INFO:simpletransformers.classification.classification_utils: Converting to features started. Cache is not used.\n"
     ]
    },
    {
     "name": "stdout",
     "output_type": "stream",
     "text": [
      "----- roberta , duration is: 4h:20m:43s ----- \n",
      "\n",
      "\n"
     ]
    },
    {
     "data": {
      "application/vnd.jupyter.widget-view+json": {
       "model_id": "3673a246aee64229be35cbe8187b4b2d",
       "version_major": 2,
       "version_minor": 0
      },
      "text/plain": [
       "  0%|          | 0/80518 [00:00<?, ?it/s]"
      ]
     },
     "metadata": {},
     "output_type": "display_data"
    },
    {
     "name": "stderr",
     "output_type": "stream",
     "text": [
      "INFO:simpletransformers.classification.classification_utils: Saving features into cached file cache_dir/cached_dev_roberta_200_3_2\n"
     ]
    },
    {
     "data": {
      "application/vnd.jupyter.widget-view+json": {
       "model_id": "b72c111b2d0e4ac88ccad80b3ead5dcd",
       "version_major": 2,
       "version_minor": 0
      },
      "text/plain": [
       "Running Evaluation:   0%|          | 0/806 [00:00<?, ?it/s]"
      ]
     },
     "metadata": {},
     "output_type": "display_data"
    },
    {
     "name": "stderr",
     "output_type": "stream",
     "text": [
      "INFO:simpletransformers.classification.classification_model:{'mcc': 0.7746695099579798, 'accuracy': 0.87161876847413, 'p_micro': 0.87161876847413, 'p_macro': 0.8293039327691621, 'p_w': 0.8705323901384183, 'r_micro': 0.87161876847413, 'r_macro': 0.8151699661701185, 'r_w': 0.87161876847413, 'f_micro': 0.87161876847413, 'f_macro': 0.8218442012533379, 'f_w': 0.8709611393974825, 'classificationReport': {'0.0': {'precision': 0.8939259039422268, 'recall': 0.8971654090548054, 'f1-score': 0.8955427268898194, 'support': 40288}, '1.0': {'precision': 0.8740105933464263, 'recall': 0.8846188597415896, 'f1-score': 0.8792827313685282, 'support': 33203}, '2.0': {'precision': 0.719975301018833, 'recall': 0.6637256297139604, 'f1-score': 0.690707145501666, 'support': 7027}, 'accuracy': 0.87161876847413, 'macro avg': {'precision': 0.8293039327691621, 'recall': 0.8151699661701185, 'f1-score': 0.8218442012533379, 'support': 80518}, 'weighted avg': {'precision': 0.8705323901384183, 'recall': 0.87161876847413, 'f1-score': 0.8709611393974825, 'support': 80518}}, 'eval_loss': 0.36530059145268967}\n"
     ]
    },
    {
     "data": {
      "text/plain": [
       "{'mcc': 0.7746695099579798,\n",
       " 'accuracy': 0.87161876847413,\n",
       " 'p_micro': 0.87161876847413,\n",
       " 'p_macro': 0.8293039327691621,\n",
       " 'p_w': 0.8705323901384183,\n",
       " 'r_micro': 0.87161876847413,\n",
       " 'r_macro': 0.8151699661701185,\n",
       " 'r_w': 0.87161876847413,\n",
       " 'f_micro': 0.87161876847413,\n",
       " 'f_macro': 0.8218442012533379,\n",
       " 'f_w': 0.8709611393974825,\n",
       " 'classificationReport': {'0.0': {'precision': 0.8939259039422268,\n",
       "   'recall': 0.8971654090548054,\n",
       "   'f1-score': 0.8955427268898194,\n",
       "   'support': 40288},\n",
       "  '1.0': {'precision': 0.8740105933464263,\n",
       "   'recall': 0.8846188597415896,\n",
       "   'f1-score': 0.8792827313685282,\n",
       "   'support': 33203},\n",
       "  '2.0': {'precision': 0.719975301018833,\n",
       "   'recall': 0.6637256297139604,\n",
       "   'f1-score': 0.690707145501666,\n",
       "   'support': 7027},\n",
       "  'accuracy': 0.87161876847413,\n",
       "  'macro avg': {'precision': 0.8293039327691621,\n",
       "   'recall': 0.8151699661701185,\n",
       "   'f1-score': 0.8218442012533379,\n",
       "   'support': 80518},\n",
       "  'weighted avg': {'precision': 0.8705323901384183,\n",
       "   'recall': 0.87161876847413,\n",
       "   'f1-score': 0.8709611393974825,\n",
       "   'support': 80518}},\n",
       " 'eval_loss': 0.36530059145268967}"
      ]
     },
     "execution_count": 7,
     "metadata": {},
     "output_type": "execute_result"
    }
   ],
   "source": [
    "hours, remainder = divmod((datetime.datetime.now() - start).total_seconds(), 3600)\n",
    "minutes, seconds = divmod(remainder, 60)\n",
    "print('-'*5,  name, ', duration is:', '%dh:%dm:%ds' % (hours, minutes, seconds), '-'*5, '\\n\\n')\n",
    "results, model_outputs, wrong_pred = model.eval_model(test, verbose=True, **metrics_recom)\n",
    "results"
   ]
  }
 ],
 "metadata": {
  "kernelspec": {
   "display_name": "Python 3",
   "language": "python",
   "name": "python3"
  },
  "language_info": {
   "codemirror_mode": {
    "name": "ipython",
    "version": 3
   },
   "file_extension": ".py",
   "mimetype": "text/x-python",
   "name": "python",
   "nbconvert_exporter": "python",
   "pygments_lexer": "ipython3",
   "version": "3.6.9"
  }
 },
 "nbformat": 4,
 "nbformat_minor": 5
}
